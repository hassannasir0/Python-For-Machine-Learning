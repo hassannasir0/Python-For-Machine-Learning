{
 "cells": [
  {
   "cell_type": "markdown",
   "id": "97dd878a",
   "metadata": {},
   "source": [
    "### Assignment-03 (Strings)\n",
    "- Change the notebook name with your name and Roll Number.\n",
    "- Try this as your own, no chatgpt (it's for your learning)\n",
    "- after completing the assignment, submit this book on google class room."
   ]
  },
  {
   "cell_type": "markdown",
   "id": "e2bd2715",
   "metadata": {},
   "source": [
    "Create a string variable with your name and print it.\n"
   ]
  },
  {
   "cell_type": "code",
   "execution_count": 68,
   "id": "bb419df7",
   "metadata": {},
   "outputs": [
    {
     "name": "stdout",
     "output_type": "stream",
     "text": [
      "My name is Hassan Nasir\n"
     ]
    }
   ],
   "source": [
    "name = \"Hassan Nasir\"\n",
    "print(\"My name is\", name)"
   ]
  },
  {
   "cell_type": "markdown",
   "id": "038709aa",
   "metadata": {},
   "source": [
    "Define a multiline string that includes line breaks and print it.\n"
   ]
  },
  {
   "cell_type": "code",
   "execution_count": 69,
   "id": "707d597b",
   "metadata": {},
   "outputs": [
    {
     "name": "stdout",
     "output_type": "stream",
     "text": [
      "Multi-line string is a string\n",
      "that can be printed in multple lines\n",
      "and can also be created with\n",
      "\"\"\"3 double quotes\"\"\" like this.\n"
     ]
    }
   ],
   "source": [
    "bigstr = '''Multi-line string is a string\\nthat can be printed in multple lines\\nand can also be created with\\n\"\"\"3 double quotes\"\"\" like this.'''\n",
    "print(bigstr)"
   ]
  },
  {
   "cell_type": "markdown",
   "id": "0c79c559",
   "metadata": {},
   "source": [
    "Access the first character of a string.\n"
   ]
  },
  {
   "cell_type": "code",
   "execution_count": 70,
   "id": "3dd571a7",
   "metadata": {},
   "outputs": [
    {
     "name": "stdout",
     "output_type": "stream",
     "text": [
      "The first character in 'Python for machine learning' is: P\n"
     ]
    }
   ],
   "source": [
    "a = \"Python for machine learning\"\n",
    "print(f\"The first character in '{a}' is:\",a[0])"
   ]
  },
  {
   "cell_type": "markdown",
   "id": "eea487fc",
   "metadata": {},
   "source": [
    "Access the last character of a string.\n"
   ]
  },
  {
   "cell_type": "code",
   "execution_count": 71,
   "id": "3efc26a3",
   "metadata": {},
   "outputs": [
    {
     "name": "stdout",
     "output_type": "stream",
     "text": [
      "The last character of 'Python for machine learning' is: g\n"
     ]
    }
   ],
   "source": [
    "a = \"Python for machine learning\"\n",
    "print(f\"The last character of '{a}' is:\",a[-1])"
   ]
  },
  {
   "cell_type": "markdown",
   "id": "eafa1f78",
   "metadata": {},
   "source": [
    "Access the second to the fifth character of a string."
   ]
  },
  {
   "cell_type": "code",
   "execution_count": 72,
   "id": "1a183435",
   "metadata": {},
   "outputs": [
    {
     "name": "stdout",
     "output_type": "stream",
     "text": [
      "Second to fifth characters in 'Python for machine learning' are: ytho\n"
     ]
    }
   ],
   "source": [
    "a = \"Python for machine learning\"\n",
    "print(f\"Second to fifth characters in '{a}' are:\", a[1:5])"
   ]
  },
  {
   "cell_type": "markdown",
   "id": "345dabe1",
   "metadata": {},
   "source": [
    "Attempt to change a character within an existing string and explain the result.\n"
   ]
  },
  {
   "cell_type": "code",
   "execution_count": 73,
   "id": "4a2c3c34",
   "metadata": {},
   "outputs": [
    {
     "ename": "TypeError",
     "evalue": "'str' object does not support item assignment",
     "output_type": "error",
     "traceback": [
      "\u001b[1;31m---------------------------------------------------------------------------\u001b[0m",
      "\u001b[1;31mTypeError\u001b[0m                                 Traceback (most recent call last)",
      "Cell \u001b[1;32mIn[73], line 2\u001b[0m\n\u001b[0;32m      1\u001b[0m a \u001b[38;5;241m=\u001b[39m \u001b[38;5;124m\"\u001b[39m\u001b[38;5;124mPython for machine learning\u001b[39m\u001b[38;5;124m\"\u001b[39m\n\u001b[1;32m----> 2\u001b[0m \u001b[43ma\u001b[49m\u001b[43m[\u001b[49m\u001b[38;5;241;43m0\u001b[39;49m\u001b[43m]\u001b[49m \u001b[38;5;241m=\u001b[39m \u001b[38;5;124m\"\u001b[39m\u001b[38;5;124mp\u001b[39m\u001b[38;5;124m\"\u001b[39m\n\u001b[0;32m      3\u001b[0m \u001b[38;5;28mprint\u001b[39m(a)\n\u001b[0;32m      4\u001b[0m \u001b[38;5;66;03m# 'str' object does not support item assignment because they are immutable \u001b[39;00m\n",
      "\u001b[1;31mTypeError\u001b[0m: 'str' object does not support item assignment"
     ]
    }
   ],
   "source": [
    "a = \"Python for machine learning\"\n",
    "a[0] = \"p\"\n",
    "print(a)\n",
    "# 'str' object does not support item assignment because they are immutable "
   ]
  },
  {
   "cell_type": "markdown",
   "id": "915097a4",
   "metadata": {},
   "source": [
    "\n",
    "Slice a string to obtain the first 3 characters.\n"
   ]
  },
  {
   "cell_type": "code",
   "execution_count": 19,
   "id": "eeafdee2",
   "metadata": {},
   "outputs": [
    {
     "name": "stdout",
     "output_type": "stream",
     "text": [
      "First 3 characters of 'Python for machine learning': Pyt\n"
     ]
    }
   ],
   "source": [
    "a = \"Python for machine learning\"\n",
    "print(f\"First 3 characters of '{a}':\",a[:3])"
   ]
  },
  {
   "cell_type": "markdown",
   "id": "97f70e4d",
   "metadata": {},
   "source": [
    "Slice a string to obtain the last 4 characters.\n"
   ]
  },
  {
   "cell_type": "code",
   "execution_count": 31,
   "id": "cd07247a",
   "metadata": {},
   "outputs": [
    {
     "name": "stdout",
     "output_type": "stream",
     "text": [
      "Last 4 characters of 'Python for machine learning' are: ning\n"
     ]
    }
   ],
   "source": [
    "a = \"Python for machine learning\"\n",
    "print(f\"Last 4 characters of '{a}' are:\",a[-4:])"
   ]
  },
  {
   "cell_type": "markdown",
   "id": "db421ce3",
   "metadata": {},
   "source": [
    "Slice a string to get every second character.\n"
   ]
  },
  {
   "cell_type": "code",
   "execution_count": 33,
   "id": "a8b066a6",
   "metadata": {},
   "outputs": [
    {
     "name": "stdout",
     "output_type": "stream",
     "text": [
      "Every second character in 'Python for machine learning' are: Pto o ahn erig\n"
     ]
    }
   ],
   "source": [
    "a = \"Python for machine learning\"\n",
    "print(f\"Every second character in '{a}' are:\",a[::2])"
   ]
  },
  {
   "cell_type": "markdown",
   "id": "ff5b4751",
   "metadata": {},
   "source": [
    "Reverse a string using slicing."
   ]
  },
  {
   "cell_type": "code",
   "execution_count": 34,
   "id": "c4c4c969",
   "metadata": {},
   "outputs": [
    {
     "name": "stdout",
     "output_type": "stream",
     "text": [
      "'Python for machine learning' reversed = gninrael enihcam rof nohtyP\n"
     ]
    }
   ],
   "source": [
    "a = \"Python for machine learning\"\n",
    "print(f\"'{a}' reversed =\", a[::-1])"
   ]
  },
  {
   "cell_type": "markdown",
   "id": "c8b7f82a",
   "metadata": {},
   "source": [
    "Create two string variables and concatenate them.\n",
    "\n"
   ]
  },
  {
   "cell_type": "code",
   "execution_count": 35,
   "id": "c4d4f5ae",
   "metadata": {},
   "outputs": [
    {
     "name": "stdout",
     "output_type": "stream",
     "text": [
      "'Hassan' concatenated with 'Nasir' becomes 'HassanNasir'\n"
     ]
    }
   ],
   "source": [
    "fname = \"Hassan\"\n",
    "lname = \"Nasir\"\n",
    "full_name = fname + lname\n",
    "print(f\"'{fname}' concatenated with '{lname}' becomes '{full_name}'\")"
   ]
  },
  {
   "cell_type": "markdown",
   "id": "13e8d4b1",
   "metadata": {},
   "source": [
    "Concatenate a string with a number (convert the number to a string first)."
   ]
  },
  {
   "cell_type": "code",
   "execution_count": 40,
   "id": "cc366c5e",
   "metadata": {},
   "outputs": [
    {
     "name": "stdout",
     "output_type": "stream",
     "text": [
      "'Python for machine learning' concatenated with '8' becomes 'Python for machine learning 8'\n"
     ]
    }
   ],
   "source": [
    "a = \"Python for machine learning\"\n",
    "num = 8\n",
    "str_num = str(num)\n",
    "conc = a + \" \" + str_num\n",
    "print(f\"'{a}' concatenated with '{str_num}' becomes '{conc}'\")"
   ]
  },
  {
   "cell_type": "markdown",
   "id": "201b3886",
   "metadata": {},
   "source": [
    "Generate a string that repeats \"abc\" 10 times.\n",
    "\n"
   ]
  },
  {
   "cell_type": "code",
   "execution_count": 42,
   "id": "01d068c1",
   "metadata": {},
   "outputs": [
    {
     "name": "stdout",
     "output_type": "stream",
     "text": [
      "'abc' repeating 10 times = 'abcabcabcabcabcabcabcabcabcabc\n"
     ]
    }
   ],
   "source": [
    "s = \"abc\"\n",
    "rs = s * 10\n",
    "print(f\"'{s}' repeating 10 times = '{rs}\")"
   ]
  },
  {
   "cell_type": "markdown",
   "id": "c668c12f",
   "metadata": {},
   "source": [
    "Create a string containing a repeating pattern of your choice."
   ]
  },
  {
   "cell_type": "code",
   "execution_count": 44,
   "id": "948db73c",
   "metadata": {},
   "outputs": [
    {
     "name": "stdout",
     "output_type": "stream",
     "text": [
      "Python for machine learningPython for machine learningPython for machine learningPython for machine learningPython for machine learning\n"
     ]
    }
   ],
   "source": [
    "a = \"Python for machine learning\"\n",
    "ra = a * 5\n",
    "print(ra)"
   ]
  },
  {
   "cell_type": "markdown",
   "id": "597fce86",
   "metadata": {},
   "source": [
    "Convert a string to lowercase using the lower() method.\n"
   ]
  },
  {
   "cell_type": "code",
   "execution_count": 45,
   "id": "091297bd",
   "metadata": {},
   "outputs": [
    {
     "name": "stdout",
     "output_type": "stream",
     "text": [
      "'HELLO WORLD' lowercase = hello world\n"
     ]
    }
   ],
   "source": [
    "a = \"HELLO WORLD\"\n",
    "lower_a = a.lower()\n",
    "print(f\"'{a}' lowercase = {lower_a}\")"
   ]
  },
  {
   "cell_type": "markdown",
   "id": "e96bb408",
   "metadata": {},
   "source": [
    "\n",
    "Convert a string to uppercase using the upper() method.\n"
   ]
  },
  {
   "cell_type": "code",
   "execution_count": 46,
   "id": "a2598fc3",
   "metadata": {},
   "outputs": [
    {
     "name": "stdout",
     "output_type": "stream",
     "text": [
      "'hello world' uppercase = HELLO WORLD \n"
     ]
    }
   ],
   "source": [
    "a = \"hello world\"\n",
    "upper_a = a.upper()\n",
    "print(f\"'{a}' uppercase = {upper_a} \")"
   ]
  },
  {
   "cell_type": "markdown",
   "id": "92ab5b20",
   "metadata": {},
   "source": [
    "Remove leading and trailing whitespace from a string using the strip() method.\n"
   ]
  },
  {
   "cell_type": "code",
   "execution_count": 55,
   "id": "0507e93a",
   "metadata": {},
   "outputs": [
    {
     "name": "stdout",
     "output_type": "stream",
     "text": [
      "'        Python for machine learning       ' after stripping becomes 'Python for machine learning'\n"
     ]
    }
   ],
   "source": [
    "a = \"        Python for machine learning       \"\n",
    "strip_a = a.strip()\n",
    "print(f\"'{a}' after stripping becomes '{strip_a}'\")"
   ]
  },
  {
   "cell_type": "markdown",
   "id": "a91e7489",
   "metadata": {},
   "source": [
    "Check if a string starts with a specific prefix using the startswith() method.\n"
   ]
  },
  {
   "cell_type": "code",
   "execution_count": 65,
   "id": "3c01dd7d",
   "metadata": {},
   "outputs": [
    {
     "name": "stdout",
     "output_type": "stream",
     "text": [
      "Does 'Python for machine learning' starts with P?\n",
      "Answer = True\n"
     ]
    }
   ],
   "source": [
    "a = \"Python for machine learning\"\n",
    "print(f\"Does '{a}' starts with P?\\nAnswer =\", a.startswith('P'))\n",
    "\n"
   ]
  },
  {
   "cell_type": "markdown",
   "id": "4b8b4581",
   "metadata": {},
   "source": [
    "Split a string into a list of words using the split() method.\n"
   ]
  },
  {
   "cell_type": "code",
   "execution_count": 66,
   "id": "5bcc4070",
   "metadata": {},
   "outputs": [
    {
     "name": "stdout",
     "output_type": "stream",
     "text": [
      "['Python', 'for', 'machine', 'learning']\n"
     ]
    }
   ],
   "source": [
    "a = \"Python for machine learning\"\n",
    "list_a = a.split()\n",
    "print(list_a)"
   ]
  },
  {
   "cell_type": "markdown",
   "id": "37dd8ff8",
   "metadata": {},
   "source": [
    "Join a list of words into a single string using the join() method."
   ]
  },
  {
   "cell_type": "code",
   "execution_count": 67,
   "id": "473860cd",
   "metadata": {},
   "outputs": [
    {
     "name": "stdout",
     "output_type": "stream",
     "text": [
      "Python for machine learning\n"
     ]
    }
   ],
   "source": [
    "list_a = ['Python', 'for', 'machine', 'learning']\n",
    "a = ' '.join(list_a)\n",
    "print(a)"
   ]
  },
  {
   "cell_type": "code",
   "execution_count": null,
   "id": "1af3ae45",
   "metadata": {},
   "outputs": [],
   "source": []
  }
 ],
 "metadata": {
  "kernelspec": {
   "display_name": "Python 3",
   "language": "python",
   "name": "python3"
  },
  "language_info": {
   "codemirror_mode": {
    "name": "ipython",
    "version": 3
   },
   "file_extension": ".py",
   "mimetype": "text/x-python",
   "name": "python",
   "nbconvert_exporter": "python",
   "pygments_lexer": "ipython3",
   "version": "3.11.4"
  }
 },
 "nbformat": 4,
 "nbformat_minor": 5
}
