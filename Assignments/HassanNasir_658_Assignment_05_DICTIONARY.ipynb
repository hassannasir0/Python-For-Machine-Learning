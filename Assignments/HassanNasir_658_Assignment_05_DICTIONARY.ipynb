{
 "cells": [
  {
   "cell_type": "markdown",
   "id": "d3b1242a",
   "metadata": {},
   "source": [
    "### Assignment-05 (DICTIONARY)\n",
    "- Change the notebook name with your name and Roll Number.\n",
    "- Try this as your own, no chatgpt (it's for your learning)\n",
    "- after completing the assignment, submit this book on google class room."
   ]
  },
  {
   "cell_type": "markdown",
   "id": "3079cae1",
   "metadata": {},
   "source": [
    "    Create an empty dictionary and print it.\n"
   ]
  },
  {
   "cell_type": "code",
   "execution_count": 1,
   "id": "1e0b1c0d",
   "metadata": {},
   "outputs": [
    {
     "name": "stdout",
     "output_type": "stream",
     "text": [
      "{}\n"
     ]
    }
   ],
   "source": [
    "emptydic = {}\n",
    "print(emptydic)"
   ]
  },
  {
   "cell_type": "markdown",
   "id": "c02f03e9",
   "metadata": {},
   "source": [
    "    Create a dictionary representing a person with keys such as 'name', 'age', and 'city'.\n"
   ]
  },
  {
   "cell_type": "code",
   "execution_count": 3,
   "id": "1c55f8a0",
   "metadata": {},
   "outputs": [
    {
     "name": "stdout",
     "output_type": "stream",
     "text": [
      "{'Name': 'Ali', 'Age': 24, 'city': 'Lahore'}\n"
     ]
    }
   ],
   "source": [
    "dic1 = {\n",
    "    'Name': 'Ali',\n",
    "    'Age': 24,\n",
    "    'city': 'Lahore'\n",
    "}\n",
    "print(dic1)"
   ]
  },
  {
   "cell_type": "markdown",
   "id": "3de2a866",
   "metadata": {},
   "source": [
    "    Create a dictionary that includes keys with different data types (strings, integers)."
   ]
  },
  {
   "cell_type": "code",
   "execution_count": 4,
   "id": "89c0b2ee",
   "metadata": {},
   "outputs": [
    {
     "name": "stdout",
     "output_type": "stream",
     "text": [
      "{'Name': 'String as a key', 302: 'Integer as a key'}\n"
     ]
    }
   ],
   "source": [
    "dic1 = {\n",
    "    'Name': 'String as a key',\n",
    "    302: 'Integer as a key'\n",
    "}\n",
    "print(dic1)"
   ]
  },
  {
   "cell_type": "markdown",
   "id": "41ce050c",
   "metadata": {},
   "source": [
    "Access and print the value associated with a specific key."
   ]
  },
  {
   "cell_type": "code",
   "execution_count": 6,
   "id": "ec5dbc94",
   "metadata": {},
   "outputs": [
    {
     "name": "stdout",
     "output_type": "stream",
     "text": [
      "24\n"
     ]
    }
   ],
   "source": [
    "dic1 = {\n",
    "    'Name': 'Ali',\n",
    "    'Age': 24,\n",
    "    'city': 'Lahore'\n",
    "}\n",
    "print(dic1['Age'])"
   ]
  },
  {
   "cell_type": "markdown",
   "id": "b6b0c37d",
   "metadata": {},
   "source": [
    "    Use the get() method to access a value, providing a default value if the key is not present.\n"
   ]
  },
  {
   "cell_type": "code",
   "execution_count": 10,
   "id": "7aa9e88c",
   "metadata": {},
   "outputs": [
    {
     "name": "stdout",
     "output_type": "stream",
     "text": [
      "Lahore\n",
      "Male\n"
     ]
    }
   ],
   "source": [
    "dic1 = {\n",
    "    'Name': 'Ali',\n",
    "    'Age': 24,\n",
    "    'city': 'Lahore'\n",
    "}\n",
    "print(dic1.get('city', 'Karachi'))\n",
    "print(dic1.get('Gender', 'Male'))\n"
   ]
  },
  {
   "cell_type": "markdown",
   "id": "fd070da0",
   "metadata": {},
   "source": [
    "    Iterate through the keys of a dictionary and print each key."
   ]
  },
  {
   "cell_type": "code",
   "execution_count": 15,
   "id": "20a421cc",
   "metadata": {},
   "outputs": [
    {
     "name": "stdout",
     "output_type": "stream",
     "text": [
      "dict_keys(['Name', 'Age', 'city'])\n"
     ]
    }
   ],
   "source": [
    "dic1 = {\n",
    "    'Name': 'Ali',\n",
    "    'Age': 24,\n",
    "    'city': 'Lahore'\n",
    "}\n",
    "print(dic1.keys())"
   ]
  },
  {
   "cell_type": "markdown",
   "id": "b743bd62",
   "metadata": {},
   "source": [
    "Add a new key-value pair to a dictionary."
   ]
  },
  {
   "cell_type": "code",
   "execution_count": 16,
   "id": "db404144",
   "metadata": {},
   "outputs": [
    {
     "name": "stdout",
     "output_type": "stream",
     "text": [
      "{'Name': 'Ali', 'Age': 24, 'city': 'Lahore', 'Gender': 'Male'}\n"
     ]
    }
   ],
   "source": [
    "dic1 = {\n",
    "    'Name': 'Ali',\n",
    "    'Age': 24,\n",
    "    'city': 'Lahore'\n",
    "}\n",
    "dic1['Gender'] = 'Male'\n",
    "print(dic1)"
   ]
  },
  {
   "cell_type": "markdown",
   "id": "ef13537b",
   "metadata": {},
   "source": [
    "Modify the value associated with an existing key."
   ]
  },
  {
   "cell_type": "code",
   "execution_count": 17,
   "id": "5e655290",
   "metadata": {},
   "outputs": [
    {
     "name": "stdout",
     "output_type": "stream",
     "text": [
      "{'Name': 'Ali', 'Age': 25, 'city': 'Lahore'}\n"
     ]
    }
   ],
   "source": [
    "dic1 = {\n",
    "    'Name': 'Ali',\n",
    "    'Age': 24,\n",
    "    'city': 'Lahore'\n",
    "}\n",
    "dic1['Age'] = 25\n",
    "print(dic1)"
   ]
  },
  {
   "cell_type": "markdown",
   "id": "2ff9fb92",
   "metadata": {},
   "source": [
    "Remove a specific key-value pair from a dictionary using the pop() method.\n",
    "\n"
   ]
  },
  {
   "cell_type": "code",
   "execution_count": 19,
   "id": "1bdb4169",
   "metadata": {},
   "outputs": [
    {
     "name": "stdout",
     "output_type": "stream",
     "text": [
      "{'Name': 'Ali', 'Age': 24}\n"
     ]
    }
   ],
   "source": [
    "dic1 = {\n",
    "    'Name': 'Ali',\n",
    "    'Age': 24,\n",
    "    'city': 'Lahore'\n",
    "}\n",
    "dic1.pop('city')\n",
    "print(dic1)"
   ]
  },
  {
   "cell_type": "markdown",
   "id": "edc2abf7",
   "metadata": {},
   "source": [
    "    Remove a specific key-value pair from a dictionary using the del statement."
   ]
  },
  {
   "cell_type": "code",
   "execution_count": 20,
   "id": "538eca73",
   "metadata": {},
   "outputs": [
    {
     "name": "stdout",
     "output_type": "stream",
     "text": [
      "{'Name': 'Ali', 'city': 'Lahore'}\n"
     ]
    }
   ],
   "source": [
    "dic1 = {\n",
    "    'Name': 'Ali',\n",
    "    'Age': 24,\n",
    "    'city': 'Lahore'\n",
    "}\n",
    "del dic1['Age']\n",
    "print(dic1)\n"
   ]
  },
  {
   "cell_type": "markdown",
   "id": "0f2d7e6a",
   "metadata": {},
   "source": [
    "Convert a dictionary to a list of keys."
   ]
  },
  {
   "cell_type": "code",
   "execution_count": 21,
   "id": "5705250c",
   "metadata": {},
   "outputs": [
    {
     "name": "stdout",
     "output_type": "stream",
     "text": [
      "['Name', 'Age', 'city']\n"
     ]
    }
   ],
   "source": [
    "dic1 = {\n",
    "    'Name': 'Ali',\n",
    "    'Age': 24,\n",
    "    'city': 'Lahore'\n",
    "}\n",
    "list1 = list(dic1)\n",
    "print(list1)"
   ]
  },
  {
   "cell_type": "markdown",
   "id": "1191e090",
   "metadata": {},
   "source": [
    "    Convert a dictionary to a list of values.\n"
   ]
  },
  {
   "cell_type": "code",
   "execution_count": 23,
   "id": "e89b908a",
   "metadata": {},
   "outputs": [
    {
     "name": "stdout",
     "output_type": "stream",
     "text": [
      "['Ali', 24, 'Lahore']\n"
     ]
    }
   ],
   "source": [
    "dic1 = {\n",
    "    'Name': 'Ali',\n",
    "    'Age': 24,\n",
    "    'city': 'Lahore'\n",
    "}\n",
    "list1 = list(dic1.values())\n",
    "print(list1)"
   ]
  },
  {
   "cell_type": "markdown",
   "id": "f72c7f5e",
   "metadata": {},
   "source": [
    "    Convert a list of tuples to a dictionary."
   ]
  },
  {
   "cell_type": "code",
   "execution_count": 26,
   "id": "2f531bc4",
   "metadata": {},
   "outputs": [
    {
     "name": "stdout",
     "output_type": "stream",
     "text": [
      "{'Name': 'Ali', 'Age': 24, 'city': 'Lahore'}\n"
     ]
    }
   ],
   "source": [
    "list1 = [('Name', 'Ali'), ('Age', 24), ('city', 'Lahore')]\n",
    "dic1 = dict(list1)\n",
    "print(dic1)"
   ]
  },
  {
   "cell_type": "markdown",
   "id": "8ce9bedf",
   "metadata": {},
   "source": [
    "Use the keys() method to get a list of keys in a dictionary.\n"
   ]
  },
  {
   "cell_type": "code",
   "execution_count": 27,
   "id": "7d975a45",
   "metadata": {},
   "outputs": [
    {
     "name": "stdout",
     "output_type": "stream",
     "text": [
      "dict_keys(['Name', 'Age', 'city'])\n"
     ]
    }
   ],
   "source": [
    "dic1 = {\n",
    "    'Name': 'Ali',\n",
    "    'Age': 24,\n",
    "    'city': 'Lahore'\n",
    "}\n",
    "print(dic1.keys())"
   ]
  },
  {
   "cell_type": "markdown",
   "id": "8adb7c9d",
   "metadata": {},
   "source": [
    "\n",
    "    Use the values() method to get a list of values in a dictionary.\n"
   ]
  },
  {
   "cell_type": "code",
   "execution_count": 28,
   "id": "fb8a455c",
   "metadata": {},
   "outputs": [
    {
     "name": "stdout",
     "output_type": "stream",
     "text": [
      "dict_values(['Ali', 24, 'Lahore'])\n"
     ]
    }
   ],
   "source": [
    "dic1 = {\n",
    "    'Name': 'Ali',\n",
    "    'Age': 24,\n",
    "    'city': 'Lahore'\n",
    "}\n",
    "print(dic1.values())"
   ]
  },
  {
   "cell_type": "markdown",
   "id": "b4b044e4",
   "metadata": {},
   "source": [
    "    Use the items() method to get a list of key-value pairs in a dictionary."
   ]
  },
  {
   "cell_type": "code",
   "execution_count": 29,
   "id": "ca390b74",
   "metadata": {},
   "outputs": [
    {
     "name": "stdout",
     "output_type": "stream",
     "text": [
      "dict_items([('Name', 'Ali'), ('Age', 24), ('city', 'Lahore')])\n"
     ]
    }
   ],
   "source": [
    "dic1 = {\n",
    "    'Name': 'Ali',\n",
    "    'Age': 24,\n",
    "    'city': 'Lahore'\n",
    "}\n",
    "print(dic1.items())"
   ]
  },
  {
   "cell_type": "markdown",
   "id": "bd4eb41b",
   "metadata": {},
   "source": [
    "Check if a key is present in a dictionary using the in operator.\n",
    "\n"
   ]
  },
  {
   "cell_type": "code",
   "execution_count": 32,
   "id": "39c2a92f",
   "metadata": {},
   "outputs": [
    {
     "name": "stdout",
     "output_type": "stream",
     "text": [
      "True , False\n"
     ]
    }
   ],
   "source": [
    "dic1 = {\n",
    "    'Name': 'Ali',\n",
    "    'Age': 24,\n",
    "    'city': 'Lahore'\n",
    "}\n",
    "print('Age' in dic1, ',', 'Gender' in dic1)"
   ]
  },
  {
   "cell_type": "markdown",
   "id": "ba80007f",
   "metadata": {},
   "source": [
    "    Use the setdefault() method to add a key with a default value if it doesn't exist.\n"
   ]
  },
  {
   "cell_type": "code",
   "execution_count": 33,
   "id": "cc19bd44",
   "metadata": {},
   "outputs": [
    {
     "name": "stdout",
     "output_type": "stream",
     "text": [
      "{'Name': 'Ali', 'Age': 24, 'city': 'Lahore', 'Gender': 'Male'}\n"
     ]
    }
   ],
   "source": [
    "dic1 = {\n",
    "    'Name': 'Ali',\n",
    "    'Age': 24,\n",
    "    'city': 'Lahore'\n",
    "}\n",
    "dic1.setdefault('Gender', 'Male')\n",
    "print(dic1)"
   ]
  },
  {
   "cell_type": "markdown",
   "id": "5dd9b173",
   "metadata": {},
   "source": [
    "    Merge two dictionaries using the update() method.\n"
   ]
  },
  {
   "cell_type": "code",
   "execution_count": 35,
   "id": "05e95981",
   "metadata": {},
   "outputs": [
    {
     "name": "stdout",
     "output_type": "stream",
     "text": [
      "{'Name': 'Ali', 'Age': 24, 'city': 'Lahore', 'Gender': 'Male', 'Phone': '03155122017'}\n"
     ]
    }
   ],
   "source": [
    "dic1 = {\n",
    "    'Name': 'Ali',\n",
    "    'Age': 24,\n",
    "    'city': 'Lahore'\n",
    "}\n",
    "dic2 = {\n",
    "    'Gender': 'Male',\n",
    "    'Phone': '03155122017'\n",
    "}\n",
    "dic1.update(dic2)\n",
    "print(dic1)"
   ]
  },
  {
   "cell_type": "markdown",
   "id": "1415c188",
   "metadata": {},
   "source": [
    "    Use the clear() method to remove all elements from a dictionary."
   ]
  },
  {
   "cell_type": "code",
   "execution_count": 36,
   "id": "bdf48d4c",
   "metadata": {},
   "outputs": [
    {
     "name": "stdout",
     "output_type": "stream",
     "text": [
      "{}\n"
     ]
    }
   ],
   "source": [
    "dic1 = {\n",
    "    'Name': 'Ali',\n",
    "    'Age': 24,\n",
    "    'city': 'Lahore'\n",
    "}\n",
    "dic1.clear()\n",
    "print(dic1)"
   ]
  },
  {
   "cell_type": "code",
   "execution_count": null,
   "id": "13741789",
   "metadata": {},
   "outputs": [],
   "source": []
  }
 ],
 "metadata": {
  "kernelspec": {
   "display_name": "Python 3",
   "language": "python",
   "name": "python3"
  },
  "language_info": {
   "codemirror_mode": {
    "name": "ipython",
    "version": 3
   },
   "file_extension": ".py",
   "mimetype": "text/x-python",
   "name": "python",
   "nbconvert_exporter": "python",
   "pygments_lexer": "ipython3",
   "version": "3.11.4"
  }
 },
 "nbformat": 4,
 "nbformat_minor": 5
}
