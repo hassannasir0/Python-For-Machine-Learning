{
 "cells": [
  {
   "cell_type": "markdown",
   "id": "1776f63f",
   "metadata": {},
   "source": [
    "### Assignment-02\n",
    "- Change the notebook name with your name and Roll Number.\n",
    "- Try this as your own, no chatgpt (it's for your learning)\n",
    "- after completing the assignment, submit this book on google class room."
   ]
  },
  {
   "cell_type": "markdown",
   "id": "5bc28c35",
   "metadata": {},
   "source": [
    "Declare and print a variable with the name \"name\" containing your name.\n"
   ]
  },
  {
   "cell_type": "code",
   "execution_count": 1,
   "id": "4eb1e464",
   "metadata": {},
   "outputs": [
    {
     "name": "stdout",
     "output_type": "stream",
     "text": [
      "Hassan Nasir\n"
     ]
    }
   ],
   "source": [
    "name = \"Hassan Nasir\"\n",
    "print(name)"
   ]
  },
  {
   "cell_type": "markdown",
   "id": "b66e672b",
   "metadata": {},
   "source": [
    "Create two variables, x and y, and swap their values without using a third variable.\n"
   ]
  },
  {
   "cell_type": "code",
   "execution_count": 31,
   "id": "5734b25c",
   "metadata": {},
   "outputs": [
    {
     "name": "stdout",
     "output_type": "stream",
     "text": [
      "The values of both variables are swapped x = 10 and y = 5\n"
     ]
    }
   ],
   "source": [
    "x = 5\n",
    "y = 10\n",
    "x, y = y, x\n",
    "print(f\"The values of both variables are swapped x = {x} and y = {y}\")"
   ]
  },
  {
   "cell_type": "markdown",
   "id": "68c5f126",
   "metadata": {},
   "source": [
    "Calculate the area of a rectangle with length and width stored in variables.\n"
   ]
  },
  {
   "cell_type": "code",
   "execution_count": 3,
   "id": "efead34a",
   "metadata": {},
   "outputs": [
    {
     "name": "stdout",
     "output_type": "stream",
     "text": [
      "Area of a rectangle is 200\n"
     ]
    }
   ],
   "source": [
    "length = 20\n",
    "width = 10\n",
    "area = length * width\n",
    "print(\"Area of a rectangle is\",area)"
   ]
  },
  {
   "cell_type": "markdown",
   "id": "e452ae4d",
   "metadata": {},
   "source": [
    "Create a variable with a long string (multi-line) and print its length."
   ]
  },
  {
   "cell_type": "code",
   "execution_count": 1,
   "id": "0f7d6636",
   "metadata": {},
   "outputs": [
    {
     "name": "stdout",
     "output_type": "stream",
     "text": [
      "199\n"
     ]
    }
   ],
   "source": [
    "long_string = \"\"\"My name is Hassan,\n",
    "this is my 2nd assignment of Python for machine learning short course,\n",
    "And this is how you create a multi line string,\n",
    "It can also be created using '''3 single quotes''' like this.\"\"\"\n",
    "print(len(long_string))"
   ]
  },
  {
   "cell_type": "markdown",
   "id": "708def01",
   "metadata": {},
   "source": [
    "Create a variable to store your favorite number and print it."
   ]
  },
  {
   "cell_type": "code",
   "execution_count": 5,
   "id": "d810e261",
   "metadata": {},
   "outputs": [
    {
     "name": "stdout",
     "output_type": "stream",
     "text": [
      "10\n"
     ]
    }
   ],
   "source": [
    "my_fvrt_no = 10\n",
    "print(my_fvrt_no)"
   ]
  },
  {
   "cell_type": "markdown",
   "id": "9088a41e",
   "metadata": {},
   "source": [
    "Declare and assign values to multiple variables to represent the sides of a triangle. Calculate and print its perimeter.\n"
   ]
  },
  {
   "cell_type": "code",
   "execution_count": 6,
   "id": "13d9d2d2",
   "metadata": {},
   "outputs": [
    {
     "name": "stdout",
     "output_type": "stream",
     "text": [
      "The perimeter of a triangle is 18\n"
     ]
    }
   ],
   "source": [
    "side1 = 5\n",
    "side2 = 5\n",
    "side3 = 8\n",
    "parimeter = (side1 + side2 + side3)\n",
    "print(\"The perimeter of a triangle is\", parimeter)"
   ]
  },
  {
   "cell_type": "markdown",
   "id": "a76f2d4f",
   "metadata": {},
   "source": [
    "Store the price of an item in one variable and the quantity in another. Calculate and print the total cost.\n"
   ]
  },
  {
   "cell_type": "code",
   "execution_count": 7,
   "id": "8cc9115b",
   "metadata": {},
   "outputs": [
    {
     "name": "stdout",
     "output_type": "stream",
     "text": [
      "Total Cost = 800\n"
     ]
    }
   ],
   "source": [
    "price = 200\n",
    "quantity = 4\n",
    "print(\"Total Cost =\", price*quantity)"
   ]
  },
  {
   "cell_type": "markdown",
   "id": "7d9d0793",
   "metadata": {},
   "source": [
    "Declare a constant variable for the value of pi (π) and use it to calculate the circumference of a circle with a given radius."
   ]
  },
  {
   "cell_type": "code",
   "execution_count": 8,
   "id": "254f3e92",
   "metadata": {},
   "outputs": [
    {
     "name": "stdout",
     "output_type": "stream",
     "text": [
      "The circumference of the circle with radius 7 is 43.96\n"
     ]
    }
   ],
   "source": [
    "PI = 3.14\n",
    "radius = 7\n",
    "circumference = 2 * PI * radius\n",
    "print(f\"The circumference of the circle with radius {radius} is {circumference}\")\n"
   ]
  },
  {
   "cell_type": "markdown",
   "id": "2415eca0",
   "metadata": {},
   "source": [
    "Calculate the sum of two numbers, a and b."
   ]
  },
  {
   "cell_type": "code",
   "execution_count": 9,
   "id": "8eeee19d",
   "metadata": {},
   "outputs": [
    {
     "name": "stdout",
     "output_type": "stream",
     "text": [
      "Sum of 2 and 2 is 4\n"
     ]
    }
   ],
   "source": [
    "a = 2\n",
    "b = 2\n",
    "print(f\"Sum of {a} and {b} is\", a+b) "
   ]
  },
  {
   "cell_type": "markdown",
   "id": "2f3f9653",
   "metadata": {},
   "source": [
    "Calculate the product of two numbers, a and b.\n"
   ]
  },
  {
   "cell_type": "code",
   "execution_count": 10,
   "id": "baac0709",
   "metadata": {},
   "outputs": [
    {
     "name": "stdout",
     "output_type": "stream",
     "text": [
      "Product of 4 and 3 is 12\n"
     ]
    }
   ],
   "source": [
    "a = 4\n",
    "b = 3\n",
    "print(f\"Product of {a} and {b} is\", a*b)"
   ]
  },
  {
   "cell_type": "markdown",
   "id": "263bb83b",
   "metadata": {},
   "source": [
    "Calculate the result of dividing a by b (with proper error handling for division by zero).\n"
   ]
  },
  {
   "cell_type": "code",
   "execution_count": 11,
   "id": "783ef794",
   "metadata": {},
   "outputs": [
    {
     "name": "stdout",
     "output_type": "stream",
     "text": [
      "5 divied by 2 is 2.5\n"
     ]
    }
   ],
   "source": [
    "a = 5\n",
    "b = 2\n",
    "print(f\"{a} divied by {b} is\", a/b)"
   ]
  },
  {
   "cell_type": "markdown",
   "id": "1160a016",
   "metadata": {},
   "source": [
    "Calculate the square of a number x."
   ]
  },
  {
   "cell_type": "code",
   "execution_count": 12,
   "id": "ba1443de",
   "metadata": {},
   "outputs": [
    {
     "name": "stdout",
     "output_type": "stream",
     "text": [
      "The square of 5 is 25\n"
     ]
    }
   ],
   "source": [
    "x = 5\n",
    "print(f\"The square of {5} is\", 5**2)"
   ]
  },
  {
   "cell_type": "markdown",
   "id": "927cffd3",
   "metadata": {},
   "source": [
    "Calculate the remainder when a is divided by b."
   ]
  },
  {
   "cell_type": "code",
   "execution_count": 13,
   "id": "f95b1e5c",
   "metadata": {},
   "outputs": [
    {
     "name": "stdout",
     "output_type": "stream",
     "text": [
      "The remainder when 10 is divided by 3 is 1\n"
     ]
    }
   ],
   "source": [
    "a = 10\n",
    "b = 3\n",
    "print(f\"The remainder when {a} is divided by {b} is\", a%b)"
   ]
  },
  {
   "cell_type": "markdown",
   "id": "fad0381a",
   "metadata": {},
   "source": [
    " Calculate the result of dividing 17 by 3 and print the quotient and remainder."
   ]
  },
  {
   "cell_type": "code",
   "execution_count": 14,
   "id": "6bbe2ffb",
   "metadata": {},
   "outputs": [
    {
     "name": "stdout",
     "output_type": "stream",
     "text": [
      "When 17 is divided by 3:\n",
      "The Quotient is 5 and the Remainder is 2\n"
     ]
    }
   ],
   "source": [
    "a = 17\n",
    "b = 3\n",
    "quotient = a//b\n",
    "remainder = a%b\n",
    "print(f\"When {a} is divided by {b}:\\nThe Quotient is {quotient} and the Remainder is {remainder}\")"
   ]
  },
  {
   "cell_type": "markdown",
   "id": "0abdb0ba",
   "metadata": {},
   "source": [
    "Calculate the area of a square with a given side length.\n"
   ]
  },
  {
   "cell_type": "code",
   "execution_count": 15,
   "id": "4a0edefb",
   "metadata": {},
   "outputs": [
    {
     "name": "stdout",
     "output_type": "stream",
     "text": [
      "The area of a square with side length 6 is 36\n"
     ]
    }
   ],
   "source": [
    "side_length = 6\n",
    "area = side_length ** 2\n",
    "print(f\"The area of a square with side length {side_length} is {area}\")"
   ]
  },
  {
   "cell_type": "markdown",
   "id": "0c15704a",
   "metadata": {},
   "source": [
    "Calculate the average of five numbers.\n"
   ]
  },
  {
   "cell_type": "code",
   "execution_count": 16,
   "id": "ae66922d",
   "metadata": {},
   "outputs": [
    {
     "name": "stdout",
     "output_type": "stream",
     "text": [
      "The average of 50, 10, 90, 30, 5 is 37.0\n"
     ]
    }
   ],
   "source": [
    "num1 = 50\n",
    "num2 = 10\n",
    "num3 = 90\n",
    "num4 = 30\n",
    "num5 = 5\n",
    "total_sum = num1 + num2 + num3 + num4 + num5\n",
    "average = total_sum / 5\n",
    "print(f\"The average of {num1}, {num2}, {num3}, {num4}, {num5} is {average}\")"
   ]
  },
  {
   "cell_type": "markdown",
   "id": "da3cde84",
   "metadata": {},
   "source": [
    "Create a variable with a boolean value and print its opposite value.\n"
   ]
  },
  {
   "cell_type": "code",
   "execution_count": 17,
   "id": "0bb430b5",
   "metadata": {},
   "outputs": [
    {
     "name": "stdout",
     "output_type": "stream",
     "text": [
      "The opposite of True is False\n"
     ]
    }
   ],
   "source": [
    "a = True\n",
    "print(f\"The opposite of {a} is\", a != True)"
   ]
  },
  {
   "cell_type": "markdown",
   "id": "d800b510",
   "metadata": {},
   "source": [
    "Store your birth year in a variable and calculate your age."
   ]
  },
  {
   "cell_type": "code",
   "execution_count": 18,
   "id": "94ac0a22",
   "metadata": {},
   "outputs": [
    {
     "name": "stdout",
     "output_type": "stream",
     "text": [
      "Your age is 59\n"
     ]
    }
   ],
   "source": [
    "birth_year = 1965\n",
    "\n",
    "print(\"Your age is\", 2024 - birth_year)"
   ]
  },
  {
   "cell_type": "markdown",
   "id": "193bd0c7",
   "metadata": {},
   "source": [
    "Create a variable with an integer and convert it to a float."
   ]
  },
  {
   "cell_type": "code",
   "execution_count": 2,
   "id": "c862dfa4",
   "metadata": {},
   "outputs": [
    {
     "name": "stdout",
     "output_type": "stream",
     "text": [
      "9.0\n"
     ]
    }
   ],
   "source": [
    "a = 9\n",
    "a = float(a)\n",
    "print(a)"
   ]
  },
  {
   "cell_type": "markdown",
   "id": "d6e985ae",
   "metadata": {},
   "source": [
    "Create a variable with a float and convert it to an integer."
   ]
  },
  {
   "cell_type": "code",
   "execution_count": 3,
   "id": "db782f94",
   "metadata": {},
   "outputs": [
    {
     "name": "stdout",
     "output_type": "stream",
     "text": [
      "5\n"
     ]
    }
   ],
   "source": [
    "a = 5.9\n",
    "a = int(a)\n",
    "print(a)"
   ]
  },
  {
   "cell_type": "markdown",
   "id": "03fbd24c",
   "metadata": {},
   "source": [
    "Create a variable with a string that represents an integer and convert it to an integer."
   ]
  },
  {
   "cell_type": "code",
   "execution_count": 4,
   "id": "15e98a9c",
   "metadata": {},
   "outputs": [
    {
     "name": "stdout",
     "output_type": "stream",
     "text": [
      "5\n"
     ]
    }
   ],
   "source": [
    "a = \"5\"\n",
    "a = int(a)\n",
    "print(a)"
   ]
  },
  {
   "cell_type": "markdown",
   "id": "7b82ee26",
   "metadata": {},
   "source": [
    "Create a variable with a string that represents a float and convert it to a float.\n"
   ]
  },
  {
   "cell_type": "code",
   "execution_count": 5,
   "id": "31b96ee5",
   "metadata": {},
   "outputs": [
    {
     "name": "stdout",
     "output_type": "stream",
     "text": [
      "2.5\n"
     ]
    }
   ],
   "source": [
    "a = \"2.5\"\n",
    "a = float(a)\n",
    "print(a)"
   ]
  },
  {
   "cell_type": "markdown",
   "id": "55b70302",
   "metadata": {},
   "source": [
    "Create a variable with a number and convert it to a string."
   ]
  },
  {
   "cell_type": "code",
   "execution_count": 6,
   "id": "191ca6c0",
   "metadata": {},
   "outputs": [
    {
     "name": "stdout",
     "output_type": "stream",
     "text": [
      "109\n"
     ]
    }
   ],
   "source": [
    "a = 109\n",
    "a = str(a)\n",
    "print(a)"
   ]
  },
  {
   "cell_type": "markdown",
   "id": "12030234",
   "metadata": {},
   "source": [
    "Calculate the absolute value of a number.\n",
    "\n"
   ]
  },
  {
   "cell_type": "code",
   "execution_count": 24,
   "id": "e6e2dbb2",
   "metadata": {},
   "outputs": [
    {
     "name": "stdout",
     "output_type": "stream",
     "text": [
      "The absolute value of -302 is 302\n"
     ]
    }
   ],
   "source": [
    "num = -302\n",
    "absolute = abs(num)\n",
    "print(f\"The absolute value of {num} is {absolute}\")"
   ]
  },
  {
   "cell_type": "markdown",
   "id": "0bcb4315",
   "metadata": {},
   "source": [
    "Calculate the square root of a number.\n"
   ]
  },
  {
   "cell_type": "code",
   "execution_count": 25,
   "id": "1ffc86be",
   "metadata": {},
   "outputs": [
    {
     "name": "stdout",
     "output_type": "stream",
     "text": [
      "The square root of 13 is 3.605551275463989\n"
     ]
    }
   ],
   "source": [
    "number = 13\n",
    "print(f\"The square root of {number} is\", number ** 0.5)"
   ]
  },
  {
   "cell_type": "markdown",
   "id": "3b8743eb",
   "metadata": {},
   "source": [
    "Calculate the value of a raised to the power of b.\n"
   ]
  },
  {
   "cell_type": "code",
   "execution_count": 26,
   "id": "d278563f",
   "metadata": {},
   "outputs": [
    {
     "name": "stdout",
     "output_type": "stream",
     "text": [
      "2 power 5 = 32\n"
     ]
    }
   ],
   "source": [
    "\n",
    "a = 2\n",
    "b = 5\n",
    "#2 will be multiplied 5 times\n",
    "print(f\"{a} power {5} =\", a ** 5)"
   ]
  },
  {
   "cell_type": "markdown",
   "id": "d06e7a77",
   "metadata": {},
   "source": [
    "Round a float to the nearest integer."
   ]
  },
  {
   "cell_type": "code",
   "execution_count": 27,
   "id": "2f5873c3",
   "metadata": {},
   "outputs": [
    {
     "name": "stdout",
     "output_type": "stream",
     "text": [
      "9.6 rounded is 10\n"
     ]
    }
   ],
   "source": [
    "n1 = 9.6\n",
    "rounded_n1 = round(n1)\n",
    "print(f\"{n1} rounded is {rounded_n1}\")"
   ]
  },
  {
   "cell_type": "markdown",
   "id": "34f33237",
   "metadata": {},
   "source": [
    "Combine multiple conditions using logical operators and print the result."
   ]
  },
  {
   "cell_type": "code",
   "execution_count": 28,
   "id": "687d14b0",
   "metadata": {},
   "outputs": [
    {
     "name": "stdout",
     "output_type": "stream",
     "text": [
      "False\n"
     ]
    }
   ],
   "source": [
    "age = 22\n",
    "idcard = False\n",
    "passport = True\n",
    "convict = True\n",
    "admission = age > 18 and (idcard or passport) and not convict\n",
    "print(admission)"
   ]
  },
  {
   "cell_type": "markdown",
   "id": "ab20128b",
   "metadata": {},
   "source": [
    "Generate a random number between 1 and 100.**(challenging)**\n"
   ]
  },
  {
   "cell_type": "code",
   "execution_count": 40,
   "id": "43ac553b",
   "metadata": {},
   "outputs": [
    {
     "name": "stdout",
     "output_type": "stream",
     "text": [
      "24\n"
     ]
    }
   ],
   "source": [
    "import random\n",
    "a = random.randint(1, 100)\n",
    "print(a)"
   ]
  },
  {
   "cell_type": "code",
   "execution_count": null,
   "id": "ac59eea5",
   "metadata": {},
   "outputs": [],
   "source": []
  }
 ],
 "metadata": {
  "kernelspec": {
   "display_name": "Python 3",
   "language": "python",
   "name": "python3"
  },
  "language_info": {
   "codemirror_mode": {
    "name": "ipython",
    "version": 3
   },
   "file_extension": ".py",
   "mimetype": "text/x-python",
   "name": "python",
   "nbconvert_exporter": "python",
   "pygments_lexer": "ipython3",
   "version": "3.11.4"
  }
 },
 "nbformat": 4,
 "nbformat_minor": 5
}
