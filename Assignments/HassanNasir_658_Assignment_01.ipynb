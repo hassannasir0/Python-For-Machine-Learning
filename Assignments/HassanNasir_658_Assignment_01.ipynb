{
 "cells": [
  {
   "cell_type": "code",
   "execution_count": 1,
   "metadata": {},
   "outputs": [
    {
     "name": "stdout",
     "output_type": "stream",
     "text": [
      "WELCOME TO THE CALCULATOR\n",
      "The value of 9.0 - 5.0 is 4.0\n",
      "The value of 9.0 + 5.0 is 14.0\n",
      "The value of 9.0 * 5.0 is 45.0\n",
      "The value of 9.0 / 5.0 is 1.8\n",
      "The value of 9.0 ** 5.0 is 59049.0\n"
     ]
    }
   ],
   "source": [
    "#this is my first assignment in Python\n",
    "str1 = \"Welcome to the calculator\"\n",
    "print(str1.upper())\n",
    "\n",
    "a = input(\"Enter 1st number: \")\n",
    "b = input(\"Enter 2nd number: \")\n",
    "\n",
    "num1 = float(a)\n",
    "num2 = float(b)\n",
    "\n",
    "print(\"The value of\", num1, \"-\", num2, \"is\", num1  - num2)\n",
    "print(\"The value of\", num1, \"+\", num2, \"is\", num1  + num2)\n",
    "print(\"The value of\", num1, \"*\", num2, \"is\", num1  * num2)\n",
    "print(\"The value of\", num1, \"/\", num2, \"is\", num1  / num2)\n",
    "print(\"The value of\", num1, \"**\",num2, \"is\", num1 ** num2)"
   ]
  },
  {
   "cell_type": "code",
   "execution_count": null,
   "metadata": {},
   "outputs": [],
   "source": []
  }
 ],
 "metadata": {
  "kernelspec": {
   "display_name": "Python 3",
   "language": "python",
   "name": "python3"
  },
  "language_info": {
   "codemirror_mode": {
    "name": "ipython",
    "version": 3
   },
   "file_extension": ".py",
   "mimetype": "text/x-python",
   "name": "python",
   "nbconvert_exporter": "python",
   "pygments_lexer": "ipython3",
   "version": "3.11.4"
  }
 },
 "nbformat": 4,
 "nbformat_minor": 2
}
