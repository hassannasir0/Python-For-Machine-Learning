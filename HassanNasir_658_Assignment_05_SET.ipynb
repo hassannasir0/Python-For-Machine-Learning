{
 "cells": [
  {
   "cell_type": "markdown",
   "id": "a97576a6",
   "metadata": {},
   "source": [
    "### Assignment-05 (SET)\n",
    "- Change the notebook name with your name and Roll Number.\n",
    "- Try this as your own, no chatgpt (it's for your learning)\n",
    "- after completing the assignment, submit this book on google class room."
   ]
  },
  {
   "cell_type": "markdown",
   "id": "d1ddf3da",
   "metadata": {},
   "source": [
    "    Create an empty set and print it.\n",
    "  "
   ]
  },
  {
   "cell_type": "code",
   "execution_count": 1,
   "id": "c9e9db1e",
   "metadata": {},
   "outputs": [
    {
     "name": "stdout",
     "output_type": "stream",
     "text": [
      "set()\n"
     ]
    }
   ],
   "source": [
    "set1 = set()\n",
    "print(set1)"
   ]
  },
  {
   "cell_type": "markdown",
   "id": "eeb8fb4d",
   "metadata": {},
   "source": [
    "  Create a set of your favorite colors and print it.\n"
   ]
  },
  {
   "cell_type": "code",
   "execution_count": 4,
   "id": "d8867e41",
   "metadata": {},
   "outputs": [
    {
     "name": "stdout",
     "output_type": "stream",
     "text": [
      "{'Black', 'Grey', 'Blue', 'Green'}\n"
     ]
    }
   ],
   "source": [
    "colors = {'Blue', 'Green', 'Black', 'Grey'}\n",
    "print(colors)"
   ]
  },
  {
   "cell_type": "markdown",
   "id": "5e724df6",
   "metadata": {},
   "source": [
    "    Create a set that includes a mix of data types (integers, strings, floats)."
   ]
  },
  {
   "cell_type": "code",
   "execution_count": 12,
   "id": "e496901a",
   "metadata": {},
   "outputs": [
    {
     "name": "stdout",
     "output_type": "stream",
     "text": [
      "{True, 10.9, 'Hassan', 23}\n"
     ]
    }
   ],
   "source": [
    "set1 = {23, 'Hassan', True, 10.9}\n",
    "print(set1)"
   ]
  },
  {
   "cell_type": "markdown",
   "id": "d2b80125",
   "metadata": {},
   "source": [
    "Access the elements of a set using a loop and print each element."
   ]
  },
  {
   "cell_type": "code",
   "execution_count": 13,
   "id": "3ceec096",
   "metadata": {},
   "outputs": [
    {
     "name": "stdout",
     "output_type": "stream",
     "text": [
      "True\n",
      "10.9\n",
      "Hassan\n",
      "23\n"
     ]
    }
   ],
   "source": [
    "set1 = {23, 'Hassan', True, 10.9}\n",
    "for i in set1:\n",
    "    print(i)"
   ]
  },
  {
   "cell_type": "markdown",
   "id": "08fdccf7",
   "metadata": {},
   "source": [
    "add a new element to a set using the add() method."
   ]
  },
  {
   "cell_type": "code",
   "execution_count": 25,
   "id": "5d5273f9",
   "metadata": {},
   "outputs": [
    {
     "name": "stdout",
     "output_type": "stream",
     "text": [
      "{True, 10.9, 'Python', 23, 'Hassan'}\n"
     ]
    }
   ],
   "source": [
    "set1 = {23, 'Hassan', True, 10.9}\n",
    "set1.add('Python')\n",
    "print(set1)"
   ]
  },
  {
   "cell_type": "markdown",
   "id": "c8257b4c",
   "metadata": {},
   "source": [
    "Add multiple elements to a set using the update() method."
   ]
  },
  {
   "cell_type": "code",
   "execution_count": 28,
   "id": "d3fe8634",
   "metadata": {},
   "outputs": [
    {
     "name": "stdout",
     "output_type": "stream",
     "text": [
      "{True, 10.9, 'Python', 23, 'Machine Learning', 'Hassan'}\n"
     ]
    }
   ],
   "source": [
    "set1 = {23, 'Hassan', True, 10.9}\n",
    "set1.update(['Python', 'Machine Learning'])\n",
    "print(set1)"
   ]
  },
  {
   "cell_type": "markdown",
   "id": "e8adbe50",
   "metadata": {},
   "source": [
    "Remove and return an arbitrary element from a set using the pop() method."
   ]
  },
  {
   "cell_type": "code",
   "execution_count": 37,
   "id": "bfdcad15",
   "metadata": {},
   "outputs": [
    {
     "name": "stdout",
     "output_type": "stream",
     "text": [
      "10.9\n"
     ]
    }
   ],
   "source": [
    "set1 = {23, 'Hassan', 10.9}\n",
    "popped_element = set1.pop()\n",
    "print(popped_element)"
   ]
  },
  {
   "cell_type": "markdown",
   "id": "6bacfc71",
   "metadata": {},
   "source": [
    "Remove a specific element from a set using the remove() method."
   ]
  },
  {
   "cell_type": "code",
   "execution_count": 40,
   "id": "d7d4d697",
   "metadata": {},
   "outputs": [
    {
     "name": "stdout",
     "output_type": "stream",
     "text": [
      "{10.9, 'Hassan', 23}\n"
     ]
    }
   ],
   "source": [
    "set1 = {23, 'Hassan', True, 10.9}\n",
    "set1.remove(True)\n",
    "print(set1)"
   ]
  },
  {
   "cell_type": "markdown",
   "id": "1844da3c",
   "metadata": {},
   "source": [
    "Remove a specific element from a set using the discard() method."
   ]
  },
  {
   "cell_type": "code",
   "execution_count": 42,
   "id": "36164bf7",
   "metadata": {},
   "outputs": [
    {
     "name": "stdout",
     "output_type": "stream",
     "text": [
      "{10.9, 'Hassan', 23}\n"
     ]
    }
   ],
   "source": [
    "set1 = {23, 'Hassan', True, 10.9}\n",
    "set1.discard(True)\n",
    "print(set1)"
   ]
  },
  {
   "cell_type": "markdown",
   "id": "8bd3aadb",
   "metadata": {},
   "source": [
    "Convert a string to a set of unique characters."
   ]
  },
  {
   "cell_type": "code",
   "execution_count": 49,
   "id": "5d135ac7",
   "metadata": {},
   "outputs": [
    {
     "name": "stdout",
     "output_type": "stream",
     "text": [
      "{'h', 'y', 'n', 'P', 't', 'o'}\n"
     ]
    }
   ],
   "source": [
    "str1 = \"Python\"\n",
    "set1 = set(str1)\n",
    "print(set1)"
   ]
  },
  {
   "cell_type": "markdown",
   "id": "6c622821",
   "metadata": {},
   "source": [
    "Convert a set of characters to a string."
   ]
  },
  {
   "cell_type": "code",
   "execution_count": 54,
   "id": "fb3156ac",
   "metadata": {},
   "outputs": [
    {
     "name": "stdout",
     "output_type": "stream",
     "text": [
      "hynPto\n"
     ]
    }
   ],
   "source": [
    "str1 = \"Python\"\n",
    "set1 = set(str1)\n",
    "str2 = ''.join(set1)\n",
    "print(str2)"
   ]
  },
  {
   "cell_type": "markdown",
   "id": "9a426c8f",
   "metadata": {},
   "source": [
    "Use the clear() method to remove all elements from a set."
   ]
  },
  {
   "cell_type": "code",
   "execution_count": 55,
   "id": "88a65643",
   "metadata": {},
   "outputs": [
    {
     "name": "stdout",
     "output_type": "stream",
     "text": [
      "set()\n"
     ]
    }
   ],
   "source": [
    "set1 = {23, 'Hassan', True, 10.9}\n",
    "set1.clear()\n",
    "print(set1)"
   ]
  },
  {
   "cell_type": "markdown",
   "id": "9edea94d",
   "metadata": {},
   "source": [
    "Use the copy() method to create a shallow copy of a set."
   ]
  },
  {
   "cell_type": "code",
   "execution_count": 57,
   "id": "eb4e0b56",
   "metadata": {},
   "outputs": [
    {
     "name": "stdout",
     "output_type": "stream",
     "text": [
      "{True, 10.9, 'Hassan', 23}\n"
     ]
    }
   ],
   "source": [
    "set1 = {23, 'Hassan', True, 10.9}\n",
    "shallow = set1.copy()\n",
    "print(shallow)"
   ]
  },
  {
   "cell_type": "markdown",
   "id": "cd9c69f0",
   "metadata": {},
   "source": [
    "Use the difference() method to find the difference between two sets."
   ]
  },
  {
   "cell_type": "code",
   "execution_count": 63,
   "id": "2f816d0f",
   "metadata": {},
   "outputs": [
    {
     "name": "stdout",
     "output_type": "stream",
     "text": [
      "{0, 2, 7}\n"
     ]
    }
   ],
   "source": [
    "set1 = {1, 7, 4, 0, 2}\n",
    "set2 = {9, 6, 4, 1, 8}\n",
    "print(set1.difference(set2))"
   ]
  },
  {
   "cell_type": "markdown",
   "id": "307c3f1a",
   "metadata": {},
   "source": [
    "Create two sets and find their union."
   ]
  },
  {
   "cell_type": "code",
   "execution_count": 61,
   "id": "fac5a114",
   "metadata": {},
   "outputs": [
    {
     "name": "stdout",
     "output_type": "stream",
     "text": [
      "{0, 1, 2, 4, 6, 7, 8, 9}\n",
      "{0, 1, 2, 4, 6, 7, 8, 9}\n"
     ]
    }
   ],
   "source": [
    "set1 = {1, 7, 4, 0, 2}\n",
    "set2 = {9, 6, 4, 1, 8}\n",
    "print(set1.union(set2))\n",
    "print(set1 | set2)"
   ]
  },
  {
   "cell_type": "markdown",
   "id": "eaf6ba0c",
   "metadata": {},
   "source": [
    "    Create two sets and find their intersection.\n",
    "   "
   ]
  },
  {
   "cell_type": "code",
   "execution_count": 62,
   "id": "1169662c",
   "metadata": {},
   "outputs": [
    {
     "name": "stdout",
     "output_type": "stream",
     "text": [
      "{1, 4}\n",
      "{1, 4}\n"
     ]
    }
   ],
   "source": [
    "set1 = {1, 7, 4, 0, 2}\n",
    "set2 = {9, 6, 4, 1, 8}\n",
    "print(set1.intersection(set2))\n",
    "print(set1 & set2)"
   ]
  },
  {
   "cell_type": "markdown",
   "id": "859e1d7f",
   "metadata": {},
   "source": [
    " Create two sets and find their difference.\n"
   ]
  },
  {
   "cell_type": "code",
   "execution_count": 64,
   "id": "681f05e6",
   "metadata": {},
   "outputs": [
    {
     "name": "stdout",
     "output_type": "stream",
     "text": [
      "{0, 2, 7}\n",
      "{0, 2, 7}\n"
     ]
    }
   ],
   "source": [
    "set1 = {1, 7, 4, 0, 2}\n",
    "set2 = {9, 6, 4, 1, 8}\n",
    "print(set1.difference(set2))\n",
    "print(set1 - set2)"
   ]
  },
  {
   "cell_type": "markdown",
   "id": "b1c839f5",
   "metadata": {},
   "source": [
    "    Create two sets and find their symmetric difference."
   ]
  },
  {
   "cell_type": "code",
   "execution_count": 65,
   "id": "c2695bb7",
   "metadata": {},
   "outputs": [
    {
     "name": "stdout",
     "output_type": "stream",
     "text": [
      "{0, 2, 6, 7, 8, 9}\n",
      "{0, 2, 6, 7, 8, 9}\n"
     ]
    }
   ],
   "source": [
    "set1 = {1, 7, 4, 0, 2}\n",
    "set2 = {9, 6, 4, 1, 8}\n",
    "print(set1.symmetric_difference(set2))\n",
    "print(set1 ^ set2)"
   ]
  },
  {
   "cell_type": "markdown",
   "id": "41933917",
   "metadata": {},
   "source": [
    "Check if one set is a subset of another."
   ]
  },
  {
   "cell_type": "code",
   "execution_count": 67,
   "id": "fc3d1fd0",
   "metadata": {},
   "outputs": [
    {
     "name": "stdout",
     "output_type": "stream",
     "text": [
      "True\n",
      "True\n"
     ]
    }
   ],
   "source": [
    "set1 = {0, 1, 2, 3, 4, 5}\n",
    "set2 = {1, 4, 5}\n",
    "print(set2.issubset(set1))\n",
    "print(set2 <= set1)"
   ]
  },
  {
   "cell_type": "markdown",
   "id": "65174e5c",
   "metadata": {},
   "source": [
    "    Check if one set is a superset of another.\n"
   ]
  },
  {
   "cell_type": "code",
   "execution_count": 68,
   "id": "cc34dbf9",
   "metadata": {},
   "outputs": [
    {
     "name": "stdout",
     "output_type": "stream",
     "text": [
      "True\n",
      "True\n"
     ]
    }
   ],
   "source": [
    "set1 = {0, 1, 2, 3, 4, 5}\n",
    "set2 = {1, 4, 5}\n",
    "print(set1.issuperset(set2))\n",
    "print(set1 >= set2)"
   ]
  },
  {
   "cell_type": "markdown",
   "id": "e8b05467",
   "metadata": {},
   "source": [
    "    Check if two sets are disjoint (have no common elements)."
   ]
  },
  {
   "cell_type": "code",
   "execution_count": 69,
   "id": "f5e84a48",
   "metadata": {},
   "outputs": [
    {
     "name": "stdout",
     "output_type": "stream",
     "text": [
      "False\n"
     ]
    }
   ],
   "source": [
    "set1 = {0, 1, 2, 3, 4, 5}\n",
    "set2 = {1, 4, 5}\n",
    "print(set1.isdisjoint(set2))"
   ]
  },
  {
   "cell_type": "code",
   "execution_count": null,
   "id": "d6b95fbe",
   "metadata": {},
   "outputs": [],
   "source": []
  }
 ],
 "metadata": {
  "kernelspec": {
   "display_name": "Python 3",
   "language": "python",
   "name": "python3"
  },
  "language_info": {
   "codemirror_mode": {
    "name": "ipython",
    "version": 3
   },
   "file_extension": ".py",
   "mimetype": "text/x-python",
   "name": "python",
   "nbconvert_exporter": "python",
   "pygments_lexer": "ipython3",
   "version": "3.11.4"
  }
 },
 "nbformat": 4,
 "nbformat_minor": 5
}
